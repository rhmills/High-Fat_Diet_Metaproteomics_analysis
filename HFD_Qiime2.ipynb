{
 "cells": [
  {
   "cell_type": "markdown",
   "metadata": {},
   "source": [
    "# High Fat Diet Penetrance Qiime Analyses"
   ]
  },
  {
   "cell_type": "markdown",
   "metadata": {},
   "source": [
    "Metaproteomic Qiime Analysis<br><br>\n",
    "By Robert Mills <br>\n",
    "4/23/2019<br>\n",
    "Qiime2-2019.1 Environment<br>\n",
    "<br>\n",
    "<b>Project Abstract:</b><br>\n",
    "Determinants of proneness to obesity upon availability of energy-dense diets are complex and poorly understood. Indeed, mouse models of diet-induced obesity (DIO) in mice exhibit wide intra-experimental heterogeneity in weight gain and adiposity, even amongst mice with nearly uniform genetics. Here, we sought to broadly characterize parameters that might predict and/or correlate with extent of weight gain in response to a high-fat diet (HFD). We measured metabolic parameters, behavior, inflammatory markers/cytokines, microbiota composition via 16S sequencing, and fecal proteomics by NMR-LC/MS prior to and following exposure to HFD. We hypothesized that pre-existing inflammation might predispose to HFD-induced obesity, possibly by impacting the gut-brain axis and subsequently behavior. However, neither the inflammatory markers nor behavioral testing showed clear capacity to distinguish mice that were highly prone vs. relatively resistant to HFD, although elevations in serum IL-6 marked a subset of mice that were prone to HFD-induced adiposity. Fecal microbiota composition and proteome both changed markedly in response to HFD but did not show strong unsupervised ability to distinguish prone vs. resistant mice. Nonetheless, fecal proteome analysis did reveal functional classes or proteins and classes of bacteria that correlated with HFD proneness. Such associations were tested by targeted interrogation of 16S data and largely confirmed indicating they were unlikely technical artifacts and, rather, reflected true correlations of fecal proteins and HFD-induced weight gain in our study. While future work will be needed to determine the breadth of applicability of these associations to other cohorts of animals and humans, this study nonetheless highlights the potential power of gut microbial proteins to impact obesity.\n",
    "\n",
    "\n"
   ]
  },
  {
   "cell_type": "code",
   "execution_count": 1,
   "metadata": {
    "collapsed": true
   },
   "outputs": [],
   "source": [
    "# Initializes the notebook with inline display\n",
    "%matplotlib inline\n",
    "\n",
    "from os import mkdir\n",
    "import os\n",
    "import copy\n",
    "from os.path import abspath, join as pjoin, exists\n",
    "from shutil import copy2, move\n",
    "from time import strftime, strptime\n",
    "from numpy import nan, isnan, arange\n",
    "from pandas import read_csv, Series, DataFrame\n",
    "from IPython.display import Image\n",
    "import numpy as np\n",
    "import pandas as pd\n",
    "import matplotlib as mpl\n",
    "import matplotlib.pyplot as plt"
   ]
  },
  {
   "cell_type": "code",
   "execution_count": 23,
   "metadata": {
    "collapsed": true
   },
   "outputs": [],
   "source": [
    "#Convert tab-separated file to biom file\n",
    "!biom convert -i ./Diet_Response_Metaproteomics/Data/NormalizedCommonReps_forqiime2.txt \\\n",
    "-o ./Diet_Response_Metaproteomics/Data/NormalizedCommonReps.biom \\\n",
    "-m ./HFDiet_metadata.txt \\\n",
    "--table-type=\"OTU table\" --to-hdf5"
   ]
  },
  {
   "cell_type": "code",
   "execution_count": 4,
   "metadata": {
    "collapsed": true
   },
   "outputs": [],
   "source": [
    "#Convert tab-separated file to biom file\n",
    "!biom convert -i ./GF_Organs/CSVs/NormalizedCommonReps_forQiime.txt \\\n",
    "-o ./GF_Organs/CSVs/NormalizedCommonReps.biom \\\n",
    "-m ./GF_Organs/GF_Metadata_qiime.txt \\\n",
    "--table-type=\"OTU table\" --to-hdf5"
   ]
  },
  {
   "cell_type": "code",
   "execution_count": 24,
   "metadata": {
    "collapsed": false
   },
   "outputs": [
    {
     "name": "stdout",
     "output_type": "stream",
     "text": [
      "\u001b[32mImported ./Diet_Response_Metaproteomics/Data/NormalizedCommonReps.biom as BIOMV210DirFmt to HFD_commonreps_biom.qza\u001b[0m\r\n"
     ]
    }
   ],
   "source": [
    "!qiime tools import \\\n",
    "  --input-path ./Diet_Response_Metaproteomics/Data/NormalizedCommonReps.biom \\\n",
    "  --type 'FeatureTable[Frequency]' \\\n",
    "  --output-path HFD_commonreps_biom.qza"
   ]
  },
  {
   "cell_type": "code",
   "execution_count": 5,
   "metadata": {
    "collapsed": false
   },
   "outputs": [
    {
     "name": "stdout",
     "output_type": "stream",
     "text": [
      "\u001b[32mImported ./GF_Organs/CSVs/NormalizedCommonReps.biom as BIOMV210DirFmt to ./GF_Organs/CSVs/NormalizedCommonReps_biom.qza\u001b[0m\r\n"
     ]
    }
   ],
   "source": [
    "!qiime tools import \\\n",
    "  --input-path ./GF_Organs/CSVs/NormalizedCommonReps.biom \\\n",
    "  --type 'FeatureTable[Frequency]' \\\n",
    "  --output-path ./GF_Organs/CSVs/NormalizedCommonReps_biom.qza"
   ]
  },
  {
   "cell_type": "code",
   "execution_count": 26,
   "metadata": {
    "collapsed": false
   },
   "outputs": [
    {
     "name": "stdout",
     "output_type": "stream",
     "text": [
      "\u001b[32mSaved Visualization to: ./HFD_commonreps_biom.qzv\u001b[0m\r\n"
     ]
    }
   ],
   "source": [
    "!qiime feature-table summarize \\\n",
    "  --i-table ./HFD_commonreps_biom.qza \\\n",
    "  --o-visualization ./HFD_commonreps_biom.qzv \\\n",
    "  --m-sample-metadata-file ./HFDiet_metadata.txt"
   ]
  },
  {
   "cell_type": "code",
   "execution_count": 6,
   "metadata": {
    "collapsed": false
   },
   "outputs": [
    {
     "name": "stdout",
     "output_type": "stream",
     "text": [
      "\u001b[32mSaved Visualization to: ./GF_Organs/CSVs/NormalizedCommonReps_biom.qzv\u001b[0m\r\n"
     ]
    }
   ],
   "source": [
    "!qiime feature-table summarize \\\n",
    "  --i-table ./GF_Organs/CSVs/NormalizedCommonReps_biom.qza \\\n",
    "  --o-visualization ./GF_Organs/CSVs/NormalizedCommonReps_biom.qzv \\\n",
    "  --m-sample-metadata-file ./GF_Organs/GF_Metadata_qiime.txt"
   ]
  },
  {
   "cell_type": "code",
   "execution_count": 27,
   "metadata": {
    "collapsed": false
   },
   "outputs": [
    {
     "name": "stdout",
     "output_type": "stream",
     "text": [
      "\u001b[32mSaved FeatureTable[Frequency] to: core-metrics-results_HFD/rarefied_table.qza\u001b[0m\n",
      "\u001b[32mSaved SampleData[AlphaDiversity] to: core-metrics-results_HFD/observed_otus_vector.qza\u001b[0m\n",
      "\u001b[32mSaved SampleData[AlphaDiversity] to: core-metrics-results_HFD/shannon_vector.qza\u001b[0m\n",
      "\u001b[32mSaved SampleData[AlphaDiversity] to: core-metrics-results_HFD/evenness_vector.qza\u001b[0m\n",
      "\u001b[32mSaved DistanceMatrix to: core-metrics-results_HFD/jaccard_distance_matrix.qza\u001b[0m\n",
      "\u001b[32mSaved DistanceMatrix to: core-metrics-results_HFD/bray_curtis_distance_matrix.qza\u001b[0m\n",
      "\u001b[32mSaved PCoAResults to: core-metrics-results_HFD/jaccard_pcoa_results.qza\u001b[0m\n",
      "\u001b[32mSaved PCoAResults to: core-metrics-results_HFD/bray_curtis_pcoa_results.qza\u001b[0m\n",
      "\u001b[32mSaved Visualization to: core-metrics-results_HFD/jaccard_emperor.qzv\u001b[0m\n",
      "\u001b[32mSaved Visualization to: core-metrics-results_HFD/bray_curtis_emperor.qzv\u001b[0m\n"
     ]
    }
   ],
   "source": [
    "!qiime diversity core-metrics \\\n",
    "  --i-table HFD_commonreps_biom.qza \\\n",
    "    --p-sampling-depth 1663815 \\\n",
    "--m-metadata-file ./HFDiet_metadata.txt \\\n",
    "--output-dir core-metrics-results_HFD"
   ]
  },
  {
   "cell_type": "code",
   "execution_count": 29,
   "metadata": {
    "collapsed": false
   },
   "outputs": [
    {
     "name": "stdout",
     "output_type": "stream",
     "text": [
      "\u001b[32mSaved Visualization to: core-metrics-results_HFD/bray_curtis-Group-Time-significance.qzv\u001b[0m\r\n"
     ]
    }
   ],
   "source": [
    "!qiime diversity beta-group-significance \\\n",
    "  --i-distance-matrix core-metrics-results_HFD/bray_curtis_distance_matrix.qza \\\n",
    "  --m-metadata-file ./HFDiet_metadata.txt \\\n",
    "  --m-metadata-column Group_and_Time \\\n",
    "  --o-visualization core-metrics-results_HFD/bray_curtis-Group-Time-significance.qzv \\\n",
    "  --p-pairwise"
   ]
  },
  {
   "cell_type": "code",
   "execution_count": null,
   "metadata": {
    "collapsed": true
   },
   "outputs": [],
   "source": []
  }
 ],
 "metadata": {
  "anaconda-cloud": {},
  "kernelspec": {
   "display_name": "Python [default]",
   "language": "python",
   "name": "python3"
  },
  "language_info": {
   "codemirror_mode": {
    "name": "ipython",
    "version": 3
   },
   "file_extension": ".py",
   "mimetype": "text/x-python",
   "name": "python",
   "nbconvert_exporter": "python",
   "pygments_lexer": "ipython3",
   "version": "3.5.2"
  }
 },
 "nbformat": 4,
 "nbformat_minor": 2
}
